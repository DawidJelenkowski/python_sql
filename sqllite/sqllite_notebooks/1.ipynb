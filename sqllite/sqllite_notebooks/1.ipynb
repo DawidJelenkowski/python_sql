{
 "cells": [
  {
   "cell_type": "code",
   "execution_count": 1,
   "metadata": {},
   "outputs": [],
   "source": [
    "import sqlite3"
   ]
  },
  {
   "cell_type": "code",
   "execution_count": 2,
   "metadata": {},
   "outputs": [
    {
     "data": {
      "text/plain": [
       "module"
      ]
     },
     "execution_count": 2,
     "metadata": {},
     "output_type": "execute_result"
    }
   ],
   "source": [
    "type(sqlite3)"
   ]
  },
  {
   "cell_type": "code",
   "execution_count": 3,
   "metadata": {},
   "outputs": [],
   "source": [
    "conn = sqlite3.connect(\"first.db\")"
   ]
  },
  {
   "cell_type": "code",
   "execution_count": 4,
   "metadata": {},
   "outputs": [],
   "source": [
    "# those kind of databases live in memory and vanish while restarting a computer or somethingb\n",
    "in_mem = sqlite3.connect(\":memory:\")"
   ]
  },
  {
   "cell_type": "code",
   "execution_count": 4,
   "metadata": {},
   "outputs": [],
   "source": [
    "cur = conn.cursor()"
   ]
  },
  {
   "cell_type": "code",
   "execution_count": 6,
   "metadata": {},
   "outputs": [
    {
     "ename": "OperationalError",
     "evalue": "table ice_cream_flavors already exists",
     "output_type": "error",
     "traceback": [
      "\u001b[1;31m---------------------------------------------------------------------------\u001b[0m",
      "\u001b[1;31mOperationalError\u001b[0m                          Traceback (most recent call last)",
      "Cell \u001b[1;32mIn[6], line 1\u001b[0m\n\u001b[1;32m----> 1\u001b[0m cur\u001b[39m.\u001b[39;49mexecute(\u001b[39m\"\"\"\u001b[39;49m\n\u001b[0;32m      2\u001b[0m \u001b[39m            CREATE TABLE ice_cream_flavors (\u001b[39;49m\n\u001b[0;32m      3\u001b[0m \u001b[39m            id INTEGER PRIMARY KEY,\u001b[39;49m\n\u001b[0;32m      4\u001b[0m \u001b[39m            flavor TEXT,\u001b[39;49m\n\u001b[0;32m      5\u001b[0m \u001b[39m            rating INTEGER\u001b[39;49m\n\u001b[0;32m      6\u001b[0m \u001b[39m            );\u001b[39;49m\n\u001b[0;32m      7\u001b[0m \u001b[39m            \u001b[39;49m\u001b[39m\"\"\"\u001b[39;49m)\n",
      "\u001b[1;31mOperationalError\u001b[0m: table ice_cream_flavors already exists"
     ]
    }
   ],
   "source": [
    "cur.execute(\"\"\"\n",
    "            CREATE TABLE ice_cream_flavors (\n",
    "            id INTEGER PRIMARY KEY,\n",
    "            flavor TEXT,\n",
    "            rating INTEGER\n",
    "            );\n",
    "            \"\"\")"
   ]
  },
  {
   "cell_type": "code",
   "execution_count": 7,
   "metadata": {},
   "outputs": [
    {
     "data": {
      "text/plain": [
       "<sqlite3.Cursor at 0x20febf01bc0>"
      ]
     },
     "execution_count": 7,
     "metadata": {},
     "output_type": "execute_result"
    }
   ],
   "source": [
    "# It only stages data\n",
    "# to insert it you have to commit\n",
    "cur.execute(\"\"\"\n",
    "            INSERT INTO ice_cream_flavors (flavor, rating)\n",
    "            VALUES ('choco', 10), ('straw', 9), ('pistachio', 7.2);\n",
    "            \"\"\")"
   ]
  },
  {
   "cell_type": "code",
   "execution_count": 9,
   "metadata": {},
   "outputs": [],
   "source": [
    "conn.commit()"
   ]
  },
  {
   "cell_type": "code",
   "execution_count": 10,
   "metadata": {},
   "outputs": [
    {
     "data": {
      "text/plain": [
       "<sqlite3.Cursor at 0x20febf01bc0>"
      ]
     },
     "execution_count": 10,
     "metadata": {},
     "output_type": "execute_result"
    }
   ],
   "source": [
    "cur.execute(\"SELECT * FROM ice_cream_flavors;\")"
   ]
  },
  {
   "cell_type": "code",
   "execution_count": 11,
   "metadata": {},
   "outputs": [
    {
     "data": {
      "text/plain": [
       "(1, 'choco', 10)"
      ]
     },
     "execution_count": 11,
     "metadata": {},
     "output_type": "execute_result"
    }
   ],
   "source": [
    "cur.fetchone()"
   ]
  },
  {
   "cell_type": "code",
   "execution_count": 12,
   "metadata": {},
   "outputs": [
    {
     "data": {
      "text/plain": [
       "(2, 'straw', 9)"
      ]
     },
     "execution_count": 12,
     "metadata": {},
     "output_type": "execute_result"
    }
   ],
   "source": [
    "cur.fetchone()"
   ]
  },
  {
   "cell_type": "code",
   "execution_count": 13,
   "metadata": {},
   "outputs": [
    {
     "data": {
      "text/plain": [
       "(3, 'pistachio', 7.2)"
      ]
     },
     "execution_count": 13,
     "metadata": {},
     "output_type": "execute_result"
    }
   ],
   "source": [
    "next(cur)"
   ]
  },
  {
   "cell_type": "code",
   "execution_count": 14,
   "metadata": {},
   "outputs": [
    {
     "name": "stdout",
     "output_type": "stream",
     "text": [
      "(1, 'choco', 10)\n",
      "(2, 'straw', 9)\n",
      "(3, 'pistachio', 7.2)\n",
      "(4, 'choco', 10)\n",
      "(5, 'straw', 9)\n",
      "(6, 'pistachio', 7.2)\n"
     ]
    }
   ],
   "source": [
    "# it is equwalent to fetchone\n",
    "# lazy evaluation\n",
    "cur.execute(\"SELECT * FROM ice_cream_flavors;\")\n",
    "\n",
    "for row in cur:\n",
    "  print(row)"
   ]
  },
  {
   "cell_type": "code",
   "execution_count": 15,
   "metadata": {},
   "outputs": [
    {
     "data": {
      "text/plain": [
       "[(1, 'choco', 10),\n",
       " (2, 'straw', 9),\n",
       " (3, 'pistachio', 7.2),\n",
       " (4, 'choco', 10),\n",
       " (5, 'straw', 9),\n",
       " (6, 'pistachio', 7.2)]"
      ]
     },
     "execution_count": 15,
     "metadata": {},
     "output_type": "execute_result"
    }
   ],
   "source": [
    "# it gives a list of tuples\n",
    "cur.execute(\"SELECT * FROM ice_cream_flavors;\")\n",
    "\n",
    "cur.fetchall()"
   ]
  },
  {
   "cell_type": "code",
   "execution_count": 16,
   "metadata": {},
   "outputs": [
    {
     "data": {
      "text/plain": [
       "[(1, 'choco', 10), (2, 'straw', 9)]"
      ]
     },
     "execution_count": 16,
     "metadata": {},
     "output_type": "execute_result"
    }
   ],
   "source": [
    "cur.execute(\"SELECT * FROM ice_cream_flavors;\")\n",
    "cur.fetchmany(2)"
   ]
  },
  {
   "cell_type": "code",
   "execution_count": 17,
   "metadata": {},
   "outputs": [],
   "source": [
    "cur.row_factory = None\n",
    "# - list of column names\n",
    "# - seq of records"
   ]
  },
  {
   "cell_type": "code",
   "execution_count": 18,
   "metadata": {},
   "outputs": [
    {
     "data": {
      "text/plain": [
       "(('id', None, None, None, None, None, None),\n",
       " ('flavor', None, None, None, None, None, None),\n",
       " ('rating', None, None, None, None, None, None))"
      ]
     },
     "execution_count": 18,
     "metadata": {},
     "output_type": "execute_result"
    }
   ],
   "source": [
    "cur.description"
   ]
  },
  {
   "cell_type": "code",
   "execution_count": 19,
   "metadata": {},
   "outputs": [],
   "source": [
    "cur.row_factory = lambda cursor, row: dict(zip([col[0] for col in cursor.description], row))"
   ]
  },
  {
   "cell_type": "code",
   "execution_count": 20,
   "metadata": {},
   "outputs": [
    {
     "data": {
      "text/plain": [
       "'choco'"
      ]
     },
     "execution_count": 20,
     "metadata": {},
     "output_type": "execute_result"
    }
   ],
   "source": [
    "cur.execute(\"SELECT * FROM ice_cream_flavors;\")\n",
    "\n",
    "result = cur.fetchone()\n",
    "\n",
    "result['flavor']"
   ]
  },
  {
   "cell_type": "code",
   "execution_count": 21,
   "metadata": {},
   "outputs": [
    {
     "data": {
      "text/plain": [
       "10"
      ]
     },
     "execution_count": 21,
     "metadata": {},
     "output_type": "execute_result"
    }
   ],
   "source": [
    "result['rating']"
   ]
  },
  {
   "cell_type": "code",
   "execution_count": 22,
   "metadata": {},
   "outputs": [
    {
     "data": {
      "text/plain": [
       "[{'id': 1, 'flavor': 'choco', 'rating': 10},\n",
       " {'id': 2, 'flavor': 'straw', 'rating': 9},\n",
       " {'id': 3, 'flavor': 'pistachio', 'rating': 7.2},\n",
       " {'id': 4, 'flavor': 'choco', 'rating': 10},\n",
       " {'id': 5, 'flavor': 'straw', 'rating': 9},\n",
       " {'id': 6, 'flavor': 'pistachio', 'rating': 7.2}]"
      ]
     },
     "execution_count": 22,
     "metadata": {},
     "output_type": "execute_result"
    }
   ],
   "source": [
    "cur.execute(\"SELECT * FROM ice_cream_flavors;\")\n",
    "\n",
    "result = cur.fetchall()\n",
    "\n",
    "result"
   ]
  },
  {
   "cell_type": "code",
   "execution_count": 23,
   "metadata": {},
   "outputs": [
    {
     "data": {
      "text/plain": [
       "sqlite3.Row"
      ]
     },
     "execution_count": 23,
     "metadata": {},
     "output_type": "execute_result"
    }
   ],
   "source": [
    "sqlite3.Row"
   ]
  },
  {
   "cell_type": "code",
   "execution_count": 24,
   "metadata": {},
   "outputs": [],
   "source": [
    "cur.row_factory = None"
   ]
  },
  {
   "cell_type": "code",
   "execution_count": 25,
   "metadata": {},
   "outputs": [
    {
     "data": {
      "text/plain": [
       "[(1, 'choco', 10),\n",
       " (2, 'straw', 9),\n",
       " (3, 'pistachio', 7.2),\n",
       " (4, 'choco', 10),\n",
       " (5, 'straw', 9),\n",
       " (6, 'pistachio', 7.2)]"
      ]
     },
     "execution_count": 25,
     "metadata": {},
     "output_type": "execute_result"
    }
   ],
   "source": [
    "cur.execute(\"SELECT * FROM ice_cream_flavors;\")\n",
    "\n",
    "result = cur.fetchall()\n",
    "\n",
    "result"
   ]
  },
  {
   "cell_type": "code",
   "execution_count": 26,
   "metadata": {},
   "outputs": [],
   "source": [
    "cur.row_factory = sqlite3.Row"
   ]
  },
  {
   "cell_type": "code",
   "execution_count": 27,
   "metadata": {},
   "outputs": [
    {
     "data": {
      "text/plain": [
       "[<sqlite3.Row at 0x20febd6fca0>,\n",
       " <sqlite3.Row at 0x20fec044d00>,\n",
       " <sqlite3.Row at 0x20fec044e50>,\n",
       " <sqlite3.Row at 0x20fec046050>,\n",
       " <sqlite3.Row at 0x20fec0462c0>,\n",
       " <sqlite3.Row at 0x20fec045bd0>]"
      ]
     },
     "execution_count": 27,
     "metadata": {},
     "output_type": "execute_result"
    }
   ],
   "source": [
    "cur.execute(\"SELECT * FROM ice_cream_flavors;\")\n",
    "\n",
    "result = cur.fetchall()\n",
    "\n",
    "result"
   ]
  },
  {
   "cell_type": "code",
   "execution_count": 28,
   "metadata": {},
   "outputs": [],
   "source": [
    "first_row = result[0]"
   ]
  },
  {
   "cell_type": "code",
   "execution_count": 29,
   "metadata": {},
   "outputs": [
    {
     "data": {
      "text/plain": [
       "'choco'"
      ]
     },
     "execution_count": 29,
     "metadata": {},
     "output_type": "execute_result"
    }
   ],
   "source": [
    "first_row[\"flavor\"]"
   ]
  },
  {
   "cell_type": "code",
   "execution_count": 30,
   "metadata": {},
   "outputs": [
    {
     "data": {
      "text/plain": [
       "10"
      ]
     },
     "execution_count": 30,
     "metadata": {},
     "output_type": "execute_result"
    }
   ],
   "source": [
    "first_row[\"rating\"]"
   ]
  },
  {
   "cell_type": "code",
   "execution_count": 31,
   "metadata": {},
   "outputs": [
    {
     "data": {
      "text/plain": [
       "1"
      ]
     },
     "execution_count": 31,
     "metadata": {},
     "output_type": "execute_result"
    }
   ],
   "source": [
    "first_row[\"id\"]"
   ]
  },
  {
   "cell_type": "code",
   "execution_count": 32,
   "metadata": {},
   "outputs": [
    {
     "data": {
      "text/plain": [
       "1"
      ]
     },
     "execution_count": 32,
     "metadata": {},
     "output_type": "execute_result"
    }
   ],
   "source": [
    "first_row[0]"
   ]
  },
  {
   "cell_type": "code",
   "execution_count": 33,
   "metadata": {},
   "outputs": [
    {
     "data": {
      "text/plain": [
       "<sqlite3.Cursor at 0x20febf01bc0>"
      ]
     },
     "execution_count": 33,
     "metadata": {},
     "output_type": "execute_result"
    }
   ],
   "source": [
    "# to unstage insert use rollback() \n",
    "cur.execute(\"\"\"\n",
    "            INSERT INTO ice_cream_flavors (flavor, rating)\n",
    "            VALUES ('hazelnut', 6);\n",
    "            \"\"\")"
   ]
  },
  {
   "cell_type": "code",
   "execution_count": 34,
   "metadata": {},
   "outputs": [],
   "source": [
    "conn.rollback()"
   ]
  },
  {
   "cell_type": "code",
   "execution_count": 40,
   "metadata": {},
   "outputs": [],
   "source": [
    "# to insert many rows use dict\n",
    "flavor = input(\"Enter a flavor: \")\n",
    "rating = input(\"Enter a rating: \")\n",
    "\n",
    "cur.execute(f\"INSERT INTO ice_cream_flavors (flavor, rating) VALUES (:flavor, :rating);\",\n",
    "            {\n",
    "              \"flavor\": flavor,\n",
    "              \"rating\": rating\n",
    "            })\n",
    "conn.commit()"
   ]
  },
  {
   "cell_type": "code",
   "execution_count": 42,
   "metadata": {},
   "outputs": [],
   "source": [
    "# to insert one row\n",
    "cur.execute(f\"INSERT INTO ice_cream_flavors (flavor, rating) VALUES (?, ?);\", \n",
    "            ('fudge', 6.7))\n",
    "conn.commit()"
   ]
  },
  {
   "cell_type": "code",
   "execution_count": 44,
   "metadata": {},
   "outputs": [],
   "source": [
    "ice_cream_flavors = [ \n",
    "  ('vanilla', 4.5), \n",
    "  ('strawberry', 9), \n",
    "  ('mint', 3.6), \n",
    "  ('coffee', 6.0),\n",
    "  ('caramel', 8), \n",
    "  ('saltedcaramel', 9.2),\n",
    "]"
   ]
  },
  {
   "cell_type": "code",
   "execution_count": 46,
   "metadata": {},
   "outputs": [],
   "source": [
    "# to insert a few rows\n",
    "cur.executemany(f\"INSERT INTO ice_cream_flavors (flavor, rating) VALUES (?, ?);\",\n",
    "            ice_cream_flavors)\n",
    "conn.commit()"
   ]
  },
  {
   "cell_type": "code",
   "execution_count": 48,
   "metadata": {},
   "outputs": [
    {
     "data": {
      "text/plain": [
       "<sqlite3.Cursor at 0x20febf01bc0>"
      ]
     },
     "execution_count": 48,
     "metadata": {},
     "output_type": "execute_result"
    }
   ],
   "source": [
    "# script to create table and insert values\n",
    "cur.executescript(\"\"\"\n",
    "CREATE TABLE IF NOT EXISTS toppings (\n",
    "  id INTEGER PRIMARY KEY,\n",
    "  name TEXT NOT NULL\n",
    ");\n",
    "\n",
    "INSERT INTO toppings (name) VALUES ('sprinkles'), ('choco sauce'), ('carmel sauce'), ('nuts');\n",
    "\"\"\")"
   ]
  },
  {
   "cell_type": "code",
   "execution_count": 49,
   "metadata": {},
   "outputs": [],
   "source": [
    "conn.commit()"
   ]
  },
  {
   "cell_type": "code",
   "execution_count": 5,
   "metadata": {},
   "outputs": [],
   "source": [
    "obj = conn.iterdump()"
   ]
  },
  {
   "cell_type": "code",
   "execution_count": 6,
   "metadata": {},
   "outputs": [
    {
     "data": {
      "text/plain": [
       "'BEGIN TRANSACTION;'"
      ]
     },
     "execution_count": 6,
     "metadata": {},
     "output_type": "execute_result"
    }
   ],
   "source": [
    "next(obj)"
   ]
  },
  {
   "cell_type": "code",
   "execution_count": 7,
   "metadata": {},
   "outputs": [
    {
     "name": "stdout",
     "output_type": "stream",
     "text": [
      "BEGIN TRANSACTION;\n",
      "CREATE TABLE ice_cream_flavors (\n",
      "            id INTEGER PRIMARY KEY,\n",
      "            flavor TEXT,\n",
      "            rating INTEGER\n",
      "            );\n",
      "INSERT INTO \"ice_cream_flavors\" VALUES(1,'choco',10);\n",
      "INSERT INTO \"ice_cream_flavors\" VALUES(2,'straw',9);\n",
      "INSERT INTO \"ice_cream_flavors\" VALUES(3,'pistachio',7.2);\n",
      "INSERT INTO \"ice_cream_flavors\" VALUES(4,'hazelnut',6.3);\n",
      "INSERT INTO \"ice_cream_flavors\" VALUES(5,'cherries',4.3);\n",
      "INSERT INTO \"ice_cream_flavors\" VALUES(6,'bannana',2.1);\n",
      "INSERT INTO \"ice_cream_flavors\" VALUES(7,'fudge',6.7);\n",
      "INSERT INTO \"ice_cream_flavors\" VALUES(8,'vanilla',4.5);\n",
      "INSERT INTO \"ice_cream_flavors\" VALUES(9,'strawberry',9);\n",
      "INSERT INTO \"ice_cream_flavors\" VALUES(10,'mint',3.6);\n",
      "INSERT INTO \"ice_cream_flavors\" VALUES(11,'coffee',6);\n",
      "INSERT INTO \"ice_cream_flavors\" VALUES(12,'caramel',8);\n",
      "INSERT INTO \"ice_cream_flavors\" VALUES(13,'saltedcaramel',9.2);\n",
      "CREATE TABLE toppings (\n",
      "  id INTEGER PRIMARY KEY,\n",
      "  name TEXT NOT NULL\n",
      ");\n",
      "INSERT INTO \"toppings\" VALUES(1,'sprinkles');\n",
      "INSERT INTO \"toppings\" VALUES(2,'choco sauce');\n",
      "INSERT INTO \"toppings\" VALUES(3,'carmel sauce');\n",
      "INSERT INTO \"toppings\" VALUES(4,'nuts');\n",
      "COMMIT;\n"
     ]
    }
   ],
   "source": [
    "for line in conn.iterdump():\n",
    "  print(line)"
   ]
  },
  {
   "cell_type": "code",
   "execution_count": 6,
   "metadata": {},
   "outputs": [],
   "source": [
    "# how to save iterdump\n",
    "with open(\"ice_cream_db_dump.sel\", \"w\") as _file:\n",
    "  for line in conn.iterdump():\n",
    "    _file.write(f\"{line}\\n\")"
   ]
  },
  {
   "cell_type": "code",
   "execution_count": 5,
   "metadata": {},
   "outputs": [],
   "source": [
    "with conn:\n",
    "  cur.execute(f\"INSERT INTO ice_cream_flavors (flavor, rating) VALUES (?, ?);\", \n",
    "            ('super_salted_carmel', 2.7))"
   ]
  },
  {
   "cell_type": "code",
   "execution_count": 6,
   "metadata": {},
   "outputs": [],
   "source": [
    "conn.close()"
   ]
  }
 ],
 "metadata": {
  "kernelspec": {
   "display_name": "Python 3",
   "language": "python",
   "name": "python3"
  },
  "language_info": {
   "codemirror_mode": {
    "name": "ipython",
    "version": 3
   },
   "file_extension": ".py",
   "mimetype": "text/x-python",
   "name": "python",
   "nbconvert_exporter": "python",
   "pygments_lexer": "ipython3",
   "version": "3.11.3"
  },
  "orig_nbformat": 4
 },
 "nbformat": 4,
 "nbformat_minor": 2
}
